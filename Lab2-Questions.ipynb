{
 "cells": [
  {
   "cell_type": "markdown",
   "id": "582fd51e",
   "metadata": {},
   "source": [
    "# Lab 2: numpy\n",
    "\n",
    "#### Practice Exercise 1\n",
    "\n",
    "Create the following NumPy arrays: \n",
    "1. A 1-D array called zeros having 10 elements and all the elements are set to zero. \n",
    "2. A 1-D array called vowels having the elements ‘a’, ‘e’, ‘i’, ‘o’ and ‘u’. \n",
    "3. A 2-D array called ones having 2 rows and 5 columns and all the elements are set to 1 and dtype as int. \n",
    "4. Use nested Python lists to create a 2-D array called myarray1 having 3 rows and 3 columns and store the following data: 2.7,  0,  -2,  3.4,  10.6,  0,  -19 99.9 13 \n",
    "5. A 2-D array called myarray2 using arange() having 3 rows and 5 columns with start value = 4, step size 4 and dtype as float\n"
   ]
  },
  {
   "cell_type": "code",
   "execution_count": 27,
   "id": "9195d139",
   "metadata": {},
   "outputs": [
    {
     "name": "stdout",
     "output_type": "stream",
     "text": [
      "Zeros Array:\n",
      " [0. 0. 0. 0. 0. 0. 0. 0. 0. 0.]\n",
      "\n",
      "Vowels Array:\n",
      " ['a' 'e' 'i' 'o' 'u']\n",
      "\n",
      "Ones Array:\n",
      " [[1 1 1 1 1]\n",
      " [1 1 1 1 1]]\n",
      "\n",
      "Myarray1:\n",
      " [[  2.7   0.   -2. ]\n",
      " [  3.4  10.6   0. ]\n",
      " [-19.   99.9  13. ]]\n",
      "\n",
      "Myarray2:\n",
      " [[ 4.  8. 12. 16. 20.]\n",
      " [24. 28. 32. 36. 40.]\n",
      " [44. 48. 52. 56. 60.]]\n"
     ]
    }
   ],
   "source": [
    "import numpy as np\n",
    "\n",
    "#Practice 1.1\n",
    "#Create the following arrays\n",
    "zeros = np.zeros(10)\n",
    "vowels = np.array(['a', 'e', 'i', 'o', 'u'])\n",
    "ones = np.ones((2,5), dtype=int)\n",
    "myarray1 = np.array([   [2.7, 0, -2], \n",
    "                        [3.4, 10.6, 0], \n",
    "                        [-19, 99.9, 13]])\n",
    "myarray2 = np.arange(4, 4 * 15+1, 4).reshape(3, 5).astype(float)\n",
    "\n",
    "#Display the arrays\n",
    "print(\"Zeros Array:\\n\", zeros)\n",
    "print(\"\\nVowels Array:\\n\", vowels)\n",
    "print(\"\\nOnes Array:\\n\", ones)\n",
    "print(\"\\nMyarray1:\\n\", myarray1)\n",
    "print(\"\\nMyarray2:\\n\", myarray2)"
   ]
  },
  {
   "cell_type": "markdown",
   "id": "2d3fc3a8",
   "metadata": {},
   "source": [
    "Using the arrays created in Question above, write NumPy commands for the following: \n",
    "1. Find the dimensions, shape, size, data type of the items and itemsize of arrays zeros, vowels, ones, myarray1 and myarray2. \n",
    "2. Reshape the array ones to have all the 10 elements in a single row. \n",
    "3. Display the 2nd and 3rd element of the array vowels. \n",
    "4. Display all elements in the 2nd and 3rd row of the array myarray1. \n",
    "5. Display the elements in the 1st and 2nd column of the array myarray1. \n",
    "6. Display the elements in the 1st column of the 2nd and 3rd row of the array myarray1. \n",
    "7. Reverse the array of vowels."
   ]
  },
  {
   "cell_type": "code",
   "execution_count": 28,
   "id": "fc69c3db",
   "metadata": {},
   "outputs": [
    {
     "name": "stdout",
     "output_type": "stream",
     "text": [
      "\n",
      "Zeros Array:\n",
      " Dimension: 1, Shape: (10,), Size: 10, Data Type: float64, Item Size (bytes): 8\n",
      "\n",
      "Vowels Array:\n",
      " Dimension: 1, Shape: (5,), Size: 5, Data Type: <U1, Item Size (bytes): 4\n",
      "\n",
      "Ones Array:\n",
      " Dimension: 2, Shape: (2, 5), Size: 10, Data Type: int64, Item Size (bytes): 8\n",
      "\n",
      "MyArray1 Array:\n",
      " Dimension: 2, Shape: (3, 3), Size: 9, Data Type: float64, Item Size (bytes): 8\n",
      "\n",
      "MyArray2 Array:\n",
      " Dimension: 2, Shape: (3, 5), Size: 15, Data Type: float64, Item Size (bytes): 8\n",
      "\n",
      "Ones Array Reshaped:\n",
      " [[1 1 1 1 1 1 1 1 1 1]]\n",
      "\n",
      "Vowels Array: 2nd and 3rd elements: ['e' 'i']\n",
      "\n",
      "MyArray1 Array: 2nd and 3rd rows:\n",
      " [[  3.4  10.6   0. ]\n",
      " [-19.   99.9  13. ]]\n",
      "\n",
      "MyArray1 Array: 1st and 2nd columns:\n",
      " [[  2.7   0. ]\n",
      " [  3.4  10.6]\n",
      " [-19.   99.9]]\n",
      "\n",
      "MyArray1 Array: 1st column of 2nd and 3rd rows:\n",
      " [  3.4 -19. ]\n",
      "\n",
      "Vowels Array Reversed:\n",
      " ['u' 'o' 'i' 'e' 'a']\n"
     ]
    }
   ],
   "source": [
    "#Practice 1.2\n",
    "import numpy as np\n",
    "\n",
    "# Ensure the arrays are defined\n",
    "zeros = np.zeros(10)\n",
    "vowels = np.array(['a', 'e', 'i', 'o', 'u'])\n",
    "ones = np.ones((2,5), dtype=int)\n",
    "myarray1 = np.array([   [2.7, 0, -2], \n",
    "                        [3.4, 10.6, 0], \n",
    "                        [-19, 99.9, 13]])\n",
    "myarray2 = np.arange(4, 4 * 15+1, 4).reshape(3, 5).astype(float)\n",
    "\n",
    "# Display Properties of the arrays\n",
    "print(f\"\\nZeros Array:\\n Dimension: {zeros.ndim}, Shape: {zeros.shape}, Size: {zeros.size}, Data Type: {zeros.dtype}, Item Size (bytes): {zeros.itemsize}\")\n",
    "print(f\"\\nVowels Array:\\n Dimension: {vowels.ndim}, Shape: {vowels.shape}, Size: {vowels.size}, Data Type: {vowels.dtype}, Item Size (bytes): {vowels.itemsize}\")\n",
    "print(f\"\\nOnes Array:\\n Dimension: {ones.ndim}, Shape: {ones.shape}, Size: {ones.size}, Data Type: {ones.dtype}, Item Size (bytes): {ones.itemsize}\")\n",
    "print(f\"\\nMyArray1 Array:\\n Dimension: {myarray1.ndim}, Shape: {myarray1.shape}, Size: {myarray1.size}, Data Type: {myarray1.dtype}, Item Size (bytes): {myarray1.itemsize}\")\n",
    "print(f\"\\nMyArray2 Array:\\n Dimension: {myarray2.ndim}, Shape: {myarray2.shape}, Size: {myarray2.size}, Data Type: {myarray2.dtype}, Item Size (bytes): {myarray2.itemsize}\")\n",
    "#Reshape the array of Ones\n",
    "ones = ones.reshape(1, 10)\n",
    "print(f\"\\nOnes Array Reshaped:\\n {ones}\")\n",
    "#Dispay the 2nd and 3rd  element of the array of Vowels\n",
    "print(f\"\\nVowels Array: 2nd and 3rd elements: {vowels[1:3]}\")\n",
    "#Display the 2nd and 3rd row of MyArray1\n",
    "print(f\"\\nMyArray1 Array: 2nd and 3rd rows:\\n {myarray1[1:3,:]}\")\n",
    "#Display the 1st and 2nd column of MyArray1\n",
    "print(f\"\\nMyArray1 Array: 1st and 2nd columns:\\n {myarray1[:,0:2]}\")\n",
    "#Display the 1st column of the 2nd and 3rd row of MyArray1\n",
    "print(f\"\\nMyArray1 Array: 1st column of 2nd and 3rd rows:\\n {myarray1[1:3, 0]}\")\n",
    "#Reverse the array Vowels\n",
    "vowels = vowels[::-1]\n",
    "print(f\"\\nVowels Array Reversed:\\n {vowels}\")"
   ]
  },
  {
   "cell_type": "markdown",
   "id": "e1edb3bb",
   "metadata": {},
   "source": [
    "Using the arrays created in Question above, write NumPy commands for the following:\n",
    "1. Divide all elements of array ones by 3. \n",
    "2. Add the arrays myarray1 and myarray2. \n",
    "3. Subtract myarray1 from myarray2 and store the result in a new array. \n",
    "4. Multiply myarray1 and myarray2 elementwise. \n",
    "5. Do the matrix multiplication of myarray1 and myarray2 and store the result in a new array myarray3. \n",
    "6. Divide myarray1 by myarray2. \n",
    "7. Find the cube of all elements of myarray1 and divide the resulting array by 2. \n",
    "8. Find the square root of all elements of myarray2   and divide the resulting array by 2. The result  should be rounded to two places of decimals."
   ]
  },
  {
   "cell_type": "code",
   "execution_count": 29,
   "id": "3c933386",
   "metadata": {},
   "outputs": [
    {
     "name": "stdout",
     "output_type": "stream",
     "text": [
      "\n",
      "Ones Array divided by 3:\n",
      " [[0.33333333 0.33333333 0.33333333 0.33333333 0.33333333 0.33333333\n",
      "  0.33333333 0.33333333 0.33333333 0.33333333]]\n",
      "\n",
      "MyArray1 + MyArray2:\n",
      " [[  6.7   8.   10. ]\n",
      " [ 27.4  38.6  32. ]\n",
      " [ 25.  147.9  65. ]]\n",
      "\n",
      "MyArray2 - MyArray1:\n",
      " [[  1.3   8.   14. ]\n",
      " [ 20.6  17.4  32. ]\n",
      " [ 63.  -51.9  39. ]]\n",
      "\n",
      "MyArray1 * MyArray2:\n",
      " [[  10.8    0.   -24. ]\n",
      " [  81.6  296.8    0. ]\n",
      " [-836.  4795.2  676. ]]\n",
      "\n",
      "MyArray1 @ MyArray2:\n",
      " [[ -77.2  -74.4  -71.6]\n",
      " [ 268.   324.   380. ]\n",
      " [2893.6 3269.2 3644.8]]\n",
      "\n",
      "MyArray1 / MyArray2:\n",
      " [[ 0.675       0.         -0.16666667]\n",
      " [ 0.14166667  0.37857143  0.        ]\n",
      " [-0.43181818  2.08125     0.25      ]]\n",
      "\n",
      "MyArray1 ** 3 / MyArray2:\n",
      " [[ 9.841500e+00  0.000000e+00 -4.000000e+00]\n",
      " [ 1.965200e+01  5.955080e+02  0.000000e+00]\n",
      " [-3.429500e+03  4.985015e+05  1.098500e+03]]\n",
      "\n",
      "Sqrt(MyArray2) / 2 rounded to 2 decimal places:\n",
      " [[1.   1.41 1.73 2.   2.24]\n",
      " [2.45 2.65 2.83 3.   3.16]\n",
      " [3.32 3.46 3.61 3.74 3.87]]\n"
     ]
    }
   ],
   "source": [
    "#Practice 1.3\n",
    "#Divide Ones by 3\n",
    "ones_d = (ones / 3.0).astype(float)\n",
    "print(f\"\\nOnes Array divided by 3:\\n {ones_d}\")\n",
    "#Add MyArray1 and MyArray2\n",
    "myarray3 = myarray1 + myarray2[:,:3]\n",
    "print(f\"\\nMyArray1 + MyArray2:\\n {myarray3}\")\n",
    "#Subtract MyArray1 from MyArray2\n",
    "myarray4 = myarray2[:,:3] - myarray1\n",
    "print(f\"\\nMyArray2 - MyArray1:\\n {myarray4}\")\n",
    "#Multiply MyArray1 by MyArray2 elementwise\n",
    "myarray5 = myarray1 * myarray2[:,:3]\n",
    "print(f\"\\nMyArray1 * MyArray2:\\n {myarray5}\")\n",
    "#Multiply MyArray1 by MyArray2 matrix multiplication\n",
    "myarray6 = myarray1 @ myarray2[:,:3]\n",
    "print(f\"\\nMyArray1 @ MyArray2:\\n {myarray6}\")\n",
    "#Divide MyArray1 by MyArray2\n",
    "myarray7 = myarray1 / myarray2[:,:3]\n",
    "print(f\"\\nMyArray1 / MyArray2:\\n {myarray7}\")\n",
    "#Raise MyArray1 to the power of 2 and divie by MyArray2\n",
    "myarray8 = myarray1 ** 3 / 2\n",
    "print(f\"\\nMyArray1 ** 3 / MyArray2:\\n {myarray8}\")\n",
    "#Square root of MyArray2 and divide by 2\n",
    "myarray9 = np.round(np.sqrt(myarray2) / 2, 2)\n",
    "print(f\"\\nSqrt(MyArray2) / 2 rounded to 2 decimal places:\\n {myarray9}\")\n"
   ]
  },
  {
   "cell_type": "markdown",
   "id": "d8aafc74",
   "metadata": {},
   "source": [
    "Using the arrays created above, write NumPy commands for the following: \n",
    "1. Find the transpose of ones and myarray2. \n",
    "2. Sort the array vowels in reverse. \n",
    "3. Sort the array myarray1 such that it brings the lowest value of the column in the first row and so on."
   ]
  },
  {
   "cell_type": "code",
   "execution_count": 30,
   "id": "573c6506",
   "metadata": {},
   "outputs": [
    {
     "name": "stdout",
     "output_type": "stream",
     "text": [
      "\n",
      "Transpose of Ones:\n",
      " [[1]\n",
      " [1]\n",
      " [1]\n",
      " [1]\n",
      " [1]\n",
      " [1]\n",
      " [1]\n",
      " [1]\n",
      " [1]\n",
      " [1]]\n",
      "\n",
      "Transpose of MyArray2:\n",
      " [[ 4. 24. 44.]\n",
      " [ 8. 28. 48.]\n",
      " [12. 32. 52.]\n",
      " [16. 36. 56.]\n",
      " [20. 40. 60.]]\n",
      "\n",
      "Sorted Vowels in reverse:\n",
      " ['u' 'o' 'i' 'e' 'a']\n",
      "\n",
      "Sorted MyArray1 by rows:\n",
      " [[-19.    0.   -2. ]\n",
      " [  2.7  10.6   0. ]\n",
      " [  3.4  99.9  13. ]]\n"
     ]
    }
   ],
   "source": [
    "#Practice 1.4\n",
    "#Find the transpose of Ones and MyArray2\n",
    "print(f\"\\nTranspose of Ones:\\n {ones.T}\")\n",
    "print(f\"\\nTranspose of MyArray2:\\n {myarray2.T}\")\n",
    "#Sort the array of Vowels in reverse\n",
    "print(f\"\\nSorted Vowels in reverse:\\n {np.sort(vowels)[::-1]}\")\n",
    "#Sort MyArray1 by rows\n",
    "print(f\"\\nSorted MyArray1 by rows:\\n {np.sort(myarray1, axis=0)}\")\n",
    "\n",
    "\n"
   ]
  },
  {
   "cell_type": "markdown",
   "id": "93546856",
   "metadata": {},
   "source": [
    "Create a 2-D array called myarray4 using arange() having 14 rows and 3 columns with start value = -1, step size 0.25 having. Split this array row wise into 3 equal parts and print the result. "
   ]
  },
  {
   "cell_type": "code",
   "execution_count": 31,
   "id": "441dd934",
   "metadata": {},
   "outputs": [
    {
     "name": "stdout",
     "output_type": "stream",
     "text": [
      "\n",
      "MyArray4_:\n",
      " [array([[-1.  , -0.75, -0.5 ],\n",
      "       [-0.25,  0.  ,  0.25],\n",
      "       [ 0.5 ,  0.75,  1.  ],\n",
      "       [ 1.25,  1.5 ,  1.75],\n",
      "       [ 2.  ,  2.25,  2.5 ]]), array([[2.75, 3.  , 3.25],\n",
      "       [3.5 , 3.75, 4.  ],\n",
      "       [4.25, 4.5 , 4.75],\n",
      "       [5.  , 5.25, 5.5 ],\n",
      "       [5.75, 6.  , 6.25]]), array([[6.5 , 6.75, 7.  ],\n",
      "       [7.25, 7.5 , 7.75],\n",
      "       [8.  , 8.25, 8.5 ],\n",
      "       [8.75, 9.  , 9.25]])]\n"
     ]
    }
   ],
   "source": [
    "#Practice 1.5\n",
    "#Create a splited array of 14 row and 3 columns into 3 arrays\n",
    "myarray4_ = np.arange(-1, -1+14*3*0.25, 0.25).reshape(14,3)\n",
    "print(f\"\\nMyArray4_:\\n {np.array_split(myarray4_,3)}\")\n"
   ]
  },
  {
   "cell_type": "markdown",
   "id": "c8cdbaff",
   "metadata": {},
   "source": [
    "Using the myarray4 created in the above questions, write commands for the following: \n",
    "1. Find the sum of all elements. \n",
    "2. Find the sum of all elements row wise\n",
    "3. Find the sum of all elements column wise. \n",
    "4. Find the max of all elements. \n",
    "5. Find the min of all elements in each row. \n",
    "6. Find the mean of all elements in each row. \n",
    "7. Find the standard deviation column wise."
   ]
  },
  {
   "cell_type": "code",
   "execution_count": 32,
   "id": "66af8b55",
   "metadata": {},
   "outputs": [
    {
     "name": "stdout",
     "output_type": "stream",
     "text": [
      "\n",
      "Sum of MyArray4_:\n",
      " 173.25\n",
      "\n",
      "Sum of MyArray4_ row wise:\n",
      " [-2.25  0.    2.25  4.5   6.75  9.   11.25 13.5  15.75 18.   20.25 22.5\n",
      " 24.75 27.  ]\n",
      "\n",
      "Sum of MyArray4_ column wise:\n",
      " [54.25 57.75 61.25]\n",
      "\n",
      "Max of MyArray4_:\n",
      " 9.25\n",
      "\n",
      "Min of MyArray4_ row wise:\n",
      " [-1.   -0.25  0.5   1.25  2.    2.75  3.5   4.25  5.    5.75  6.5   7.25\n",
      "  8.    8.75]\n",
      "\n",
      "Mean of MyArray4_ row wise:\n",
      " [-0.75  0.    0.75  1.5   2.25  3.    3.75  4.5   5.25  6.    6.75  7.5\n",
      "  8.25  9.  ]\n",
      "\n",
      "Standard Deviation of MyArray4_ column wise:\n",
      " [3.02334666 3.02334666 3.02334666]\n"
     ]
    }
   ],
   "source": [
    "#Practice 1.6\n",
    "#Find the sum of all elements\n",
    "print(f\"\\nSum of MyArray4_:\\n {myarray4_.sum()}\")\n",
    "#Find the sum of all elements row wise\n",
    "print(f\"\\nSum of MyArray4_ row wise:\\n {myarray4_.sum(axis=1)}\")\n",
    "#Find the sum of all elements column wise\n",
    "print(f\"\\nSum of MyArray4_ column wise:\\n {myarray4_.sum(axis=0)}\")\n",
    "#Find the max of all elements\n",
    "print(f\"\\nMax of MyArray4_:\\n {myarray4_.max()}\")\n",
    "#Find the min of all elements in each row\n",
    "print(f\"\\nMin of MyArray4_ row wise:\\n {myarray4_.min(axis=1)}\")\n",
    "#Find the mean of all elements in each row\n",
    "print(f\"\\nMean of MyArray4_ row wise:\\n {myarray4_.mean(axis=1)}\")\n",
    "#Find the standard deviation column wise\n",
    "print(f\"\\nStandard Deviation of MyArray4_ column wise:\\n {myarray4_.std(axis=0)}\")\n"
   ]
  },
  {
   "cell_type": "markdown",
   "id": "8d7e1dca",
   "metadata": {},
   "source": [
    "#### Practice Exercise 2\n",
    "Read the coordinates of the capital cities of the world from the country-capital-lat-long-population.csv file. Use NumPy to print the name and coordinates of the capital city closest to the Saudi Arabia capital - Riyadh.\n",
    "\n",
    "Note that:\n",
    "\n",
    "1. The Country Name for Saudi Arabia is given as Saudi Arabia in the data.\n",
    "2. The ‘closeness’ of capital cities from the Saudi Arabia capital is based on the Euclidean distance of their coordinates to those of the Saudi Arabia capital.\n",
    "\n",
    "\n",
    "Hints:\n",
    "\n",
    "1. Use read_html() from the Pandas library to read the table.\n",
    "2. Use the to_numpy() function of the Pandas DataFrame class to convert a DataFrame to a Numpy array\n",
    "3. Use broadcasting to compute the euclidean distance of capital cities from Riyadh."
   ]
  },
  {
   "cell_type": "code",
   "execution_count": 33,
   "id": "ab6b9725",
   "metadata": {},
   "outputs": [
    {
     "name": "stdout",
     "output_type": "stream",
     "text": [
      "\n",
      "Closest Capital to Riyadh: Al-Manamah (Manama)\n",
      "Coordinates of Latitude and Longitude: [26.2154 50.5832]\n"
     ]
    }
   ],
   "source": [
    "import pandas as pd\n",
    "\n",
    "#Practice 2.1\n",
    "cp = pd.read_csv('country-capital-lat-long-population.csv')\n",
    "data = cp.to_numpy()\n",
    "riyadh_l, riyadh_g = data[data[:, 0] == 'Saudi Arabia'][0][2:4].astype(float)\n",
    "capital_c = data[:, 2:4].astype(float)\n",
    "dist = np.sqrt(np.sum((capital_c - [riyadh_l, riyadh_g])**2, axis=1))\n",
    "closest = np.argsort(dist)[1]\n",
    "print(f\"\\nClosest Capital to Riyadh: {data[closest, 1]}\")\n",
    "print(f\"Coordinates of Latitude and Longitude: {data[closest, 2:4]}\") \n",
    "\n"
   ]
  },
  {
   "cell_type": "markdown",
   "id": "1fdbec05",
   "metadata": {},
   "source": [
    "#### Practical Exercise 2\n",
    "\n",
    "Use NumPy to:\n",
    "\n",
    "1. Print the names of the countries of the top 10 capital cities closest to the US capital - Washington DC.\n",
    "\n",
    "2. Create and print a NumPy array containing the coordinates of the top 10 cities."
   ]
  },
  {
   "cell_type": "code",
   "execution_count": 34,
   "id": "45046a85",
   "metadata": {},
   "outputs": [
    {
     "name": "stdout",
     "output_type": "stream",
     "text": [
      "\n",
      "1. Top 10 countries with capitals closest to Washington, DC:\n",
      "1. Canada\n",
      "2. Bahamas\n",
      "3. Bermuda\n",
      "4. Cuba\n",
      "5. Turks and Caicos Islands\n",
      "6. Cayman Islands\n",
      "7. Haiti\n",
      "8. Jamaica\n",
      "9. Dominican Republic\n",
      "10. Saint Pierre and Miquelon\n",
      "\n",
      "2. Coordinates of top 10 closest capitals:\n",
      "[[ 45.4166 -75.698 ]\n",
      " [ 25.0582 -77.3431]\n",
      " [ 32.2915 -64.778 ]\n",
      " [ 23.1195 -82.3785]\n",
      " [ 21.4612 -71.1419]\n",
      " [ 19.2866 -81.3744]\n",
      " [ 18.5392 -72.335 ]\n",
      " [ 17.997  -76.7936]\n",
      " [ 18.4896 -69.9018]\n",
      " [ 46.7738 -56.1815]]\n"
     ]
    }
   ],
   "source": [
    "#Practice 2.2\n",
    "import numpy as np\n",
    "import pandas as pd\n",
    "\n",
    "df = pd.read_csv('country-capital-lat-long-population.csv')\n",
    "data = df.to_numpy()\n",
    "\n",
    "us_aliases = ['United States', 'USA', 'U.S.A.', 'United States of America']\n",
    "us_row = next((i for i in range(len(data)) if data[i, 0] in us_aliases), None)\n",
    "\n",
    "if us_row is None:\n",
    "    print(\"Error: United States not found in the data.\")\n",
    "else:\n",
    "    us_coords = data[us_row, 2:4].astype(float)\n",
    "    all_coords = data[:, 2:4].astype(float)\n",
    "    distances = np.linalg.norm(all_coords - us_coords, axis=1)\n",
    "\n",
    "    closest_indices = np.argpartition(distances, 11)[:11]\n",
    "    closest_indices = closest_indices[closest_indices != us_row]\n",
    "    \n",
    "    print(\"\\n1. Top 10 countries with capitals closest to Washington, DC:\")\n",
    "    for i, idx in enumerate(closest_indices, 1):\n",
    "        print(f\"{i}. {data[idx, 0]}\")\n",
    "\n",
    "    print(\"\\n2. Coordinates of top 10 closest capitals:\")\n",
    "    print(all_coords[closest_indices])\n"
   ]
  }
 ],
 "metadata": {
  "kernelspec": {
   "display_name": "Python 3",
   "language": "python",
   "name": "python3"
  },
  "language_info": {
   "codemirror_mode": {
    "name": "ipython",
    "version": 3
   },
   "file_extension": ".py",
   "mimetype": "text/x-python",
   "name": "python",
   "nbconvert_exporter": "python",
   "pygments_lexer": "ipython3",
   "version": "3.12.7"
  }
 },
 "nbformat": 4,
 "nbformat_minor": 5
}
